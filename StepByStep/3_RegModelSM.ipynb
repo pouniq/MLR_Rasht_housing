{
 "cells": [
  {
   "cell_type": "code",
   "execution_count": 3,
   "id": "e4ace776-19f6-44e9-8ada-2c117cc9a808",
   "metadata": {},
   "outputs": [],
   "source": [
    "import pandas as pd\n",
    "import statsmodels.api as sm"
   ]
  },
  {
   "cell_type": "code",
   "execution_count": 4,
   "id": "1367cbfd-4694-4392-9a22-03e45c4672e1",
   "metadata": {},
   "outputs": [
    {
     "data": {
      "text/html": [
       "<div>\n",
       "<style scoped>\n",
       "    .dataframe tbody tr th:only-of-type {\n",
       "        vertical-align: middle;\n",
       "    }\n",
       "\n",
       "    .dataframe tbody tr th {\n",
       "        vertical-align: top;\n",
       "    }\n",
       "\n",
       "    .dataframe thead th {\n",
       "        text-align: right;\n",
       "    }\n",
       "</style>\n",
       "<table border=\"1\" class=\"dataframe\">\n",
       "  <thead>\n",
       "    <tr style=\"text-align: right;\">\n",
       "      <th></th>\n",
       "      <th>Rent</th>\n",
       "      <th>Deposit</th>\n",
       "      <th>Meterage</th>\n",
       "      <th>FloorNum_2</th>\n",
       "      <th>FloorNum_3</th>\n",
       "      <th>FloorNum_4</th>\n",
       "      <th>FloorNum_5</th>\n",
       "      <th>District_2</th>\n",
       "      <th>District_3</th>\n",
       "      <th>District_4</th>\n",
       "      <th>District_5</th>\n",
       "      <th>NoB_2</th>\n",
       "      <th>NoB_3</th>\n",
       "      <th>NoB_4</th>\n",
       "      <th>Elevator_1</th>\n",
       "      <th>DoB_1400s</th>\n",
       "      <th>DoB_Before 1390</th>\n",
       "      <th>Balcony_1</th>\n",
       "      <th>nRent</th>\n",
       "    </tr>\n",
       "  </thead>\n",
       "  <tbody>\n",
       "    <tr>\n",
       "      <th>0</th>\n",
       "      <td>0.347826</td>\n",
       "      <td>0.101266</td>\n",
       "      <td>0.346154</td>\n",
       "      <td>1</td>\n",
       "      <td>0</td>\n",
       "      <td>0</td>\n",
       "      <td>0</td>\n",
       "      <td>0</td>\n",
       "      <td>0</td>\n",
       "      <td>0</td>\n",
       "      <td>0</td>\n",
       "      <td>0</td>\n",
       "      <td>1</td>\n",
       "      <td>0</td>\n",
       "      <td>1</td>\n",
       "      <td>1</td>\n",
       "      <td>0</td>\n",
       "      <td>0</td>\n",
       "      <td>0.449092</td>\n",
       "    </tr>\n",
       "    <tr>\n",
       "      <th>1</th>\n",
       "      <td>0.101449</td>\n",
       "      <td>0.037975</td>\n",
       "      <td>0.134615</td>\n",
       "      <td>1</td>\n",
       "      <td>0</td>\n",
       "      <td>0</td>\n",
       "      <td>0</td>\n",
       "      <td>0</td>\n",
       "      <td>0</td>\n",
       "      <td>1</td>\n",
       "      <td>0</td>\n",
       "      <td>1</td>\n",
       "      <td>0</td>\n",
       "      <td>0</td>\n",
       "      <td>1</td>\n",
       "      <td>0</td>\n",
       "      <td>0</td>\n",
       "      <td>0</td>\n",
       "      <td>0.139424</td>\n",
       "    </tr>\n",
       "    <tr>\n",
       "      <th>2</th>\n",
       "      <td>0.028986</td>\n",
       "      <td>0.088608</td>\n",
       "      <td>0.153846</td>\n",
       "      <td>0</td>\n",
       "      <td>1</td>\n",
       "      <td>0</td>\n",
       "      <td>0</td>\n",
       "      <td>1</td>\n",
       "      <td>0</td>\n",
       "      <td>0</td>\n",
       "      <td>0</td>\n",
       "      <td>1</td>\n",
       "      <td>0</td>\n",
       "      <td>0</td>\n",
       "      <td>0</td>\n",
       "      <td>0</td>\n",
       "      <td>1</td>\n",
       "      <td>0</td>\n",
       "      <td>0.117593</td>\n",
       "    </tr>\n",
       "    <tr>\n",
       "      <th>3</th>\n",
       "      <td>0.072464</td>\n",
       "      <td>0.025316</td>\n",
       "      <td>0.230769</td>\n",
       "      <td>0</td>\n",
       "      <td>0</td>\n",
       "      <td>0</td>\n",
       "      <td>0</td>\n",
       "      <td>1</td>\n",
       "      <td>0</td>\n",
       "      <td>0</td>\n",
       "      <td>0</td>\n",
       "      <td>0</td>\n",
       "      <td>0</td>\n",
       "      <td>0</td>\n",
       "      <td>0</td>\n",
       "      <td>0</td>\n",
       "      <td>0</td>\n",
       "      <td>0</td>\n",
       "      <td>0.097780</td>\n",
       "    </tr>\n",
       "    <tr>\n",
       "      <th>4</th>\n",
       "      <td>0.094203</td>\n",
       "      <td>0.068354</td>\n",
       "      <td>0.292308</td>\n",
       "      <td>0</td>\n",
       "      <td>0</td>\n",
       "      <td>0</td>\n",
       "      <td>0</td>\n",
       "      <td>0</td>\n",
       "      <td>0</td>\n",
       "      <td>0</td>\n",
       "      <td>0</td>\n",
       "      <td>1</td>\n",
       "      <td>0</td>\n",
       "      <td>0</td>\n",
       "      <td>0</td>\n",
       "      <td>0</td>\n",
       "      <td>1</td>\n",
       "      <td>0</td>\n",
       "      <td>0.162557</td>\n",
       "    </tr>\n",
       "  </tbody>\n",
       "</table>\n",
       "</div>"
      ],
      "text/plain": [
       "       Rent   Deposit  Meterage  FloorNum_2  FloorNum_3  FloorNum_4  \\\n",
       "0  0.347826  0.101266  0.346154           1           0           0   \n",
       "1  0.101449  0.037975  0.134615           1           0           0   \n",
       "2  0.028986  0.088608  0.153846           0           1           0   \n",
       "3  0.072464  0.025316  0.230769           0           0           0   \n",
       "4  0.094203  0.068354  0.292308           0           0           0   \n",
       "\n",
       "   FloorNum_5  District_2  District_3  District_4  District_5  NoB_2  NoB_3  \\\n",
       "0           0           0           0           0           0      0      1   \n",
       "1           0           0           0           1           0      1      0   \n",
       "2           0           1           0           0           0      1      0   \n",
       "3           0           1           0           0           0      0      0   \n",
       "4           0           0           0           0           0      1      0   \n",
       "\n",
       "   NoB_4  Elevator_1  DoB_1400s  DoB_Before 1390  Balcony_1     nRent  \n",
       "0      0           1          1                0          0  0.449092  \n",
       "1      0           1          0                0          0  0.139424  \n",
       "2      0           0          0                1          0  0.117593  \n",
       "3      0           0          0                0          0  0.097780  \n",
       "4      0           0          0                1          0  0.162557  "
      ]
     },
     "execution_count": 4,
     "metadata": {},
     "output_type": "execute_result"
    }
   ],
   "source": [
    "df = pd.read_csv('DataPre')\n",
    "df.head()"
   ]
  },
  {
   "cell_type": "code",
   "execution_count": 5,
   "id": "a20b93fb-847b-471c-b784-f5c8ee29cc5b",
   "metadata": {},
   "outputs": [],
   "source": [
    "Y = df['nRent']\n",
    "X = df.drop(['Rent', 'Deposit' , 'nRent'], axis =1).assign(const=1)"
   ]
  },
  {
   "cell_type": "code",
   "execution_count": 6,
   "id": "21a0cc64-087f-4d17-8866-6d23567b3cd6",
   "metadata": {},
   "outputs": [
    {
     "name": "stdout",
     "output_type": "stream",
     "text": [
      "                            OLS Regression Results                            \n",
      "==============================================================================\n",
      "Dep. Variable:                  nRent   R-squared:                       0.771\n",
      "Model:                            OLS   Adj. R-squared:                  0.737\n",
      "Method:                 Least Squares   F-statistic:                     22.15\n",
      "Date:                Sun, 01 Jun 2025   Prob (F-statistic):           1.36e-26\n",
      "Time:                        22:26:55   Log-Likelihood:                 85.982\n",
      "No. Observations:                 122   AIC:                            -138.0\n",
      "Df Residuals:                     105   BIC:                            -90.30\n",
      "Df Model:                          16                                         \n",
      "Covariance Type:            nonrobust                                         \n",
      "===================================================================================\n",
      "                      coef    std err          t      P>|t|      [0.025      0.975]\n",
      "-----------------------------------------------------------------------------------\n",
      "Meterage            1.3746      0.123     11.184      0.000       1.131       1.618\n",
      "FloorNum_2          0.0326      0.035      0.927      0.356      -0.037       0.102\n",
      "FloorNum_3          0.0206      0.037      0.560      0.577      -0.052       0.093\n",
      "FloorNum_4          0.0616      0.047      1.311      0.193      -0.032       0.155\n",
      "FloorNum_5          0.3248      0.147      2.206      0.030       0.033       0.617\n",
      "District_2         -0.0117      0.039     -0.299      0.765      -0.089       0.066\n",
      "District_3         -0.0191      0.039     -0.491      0.624      -0.096       0.058\n",
      "District_4         -0.0441      0.036     -1.210      0.229      -0.116       0.028\n",
      "District_5         -0.0175      0.045     -0.386      0.700      -0.107       0.072\n",
      "NoB_2              -0.1006      0.045     -2.243      0.027      -0.190      -0.012\n",
      "NoB_3              -0.1271      0.068     -1.867      0.065      -0.262       0.008\n",
      "NoB_4               0.0277      0.160      0.173      0.863      -0.290       0.346\n",
      "Elevator_1          0.0513      0.032      1.595      0.114      -0.012       0.115\n",
      "DoB_1400s          -0.0184      0.035     -0.523      0.602      -0.088       0.051\n",
      "DoB_Before 1390    -0.0546      0.033     -1.649      0.102      -0.120       0.011\n",
      "Balcony_1          -0.0111      0.032     -0.343      0.732      -0.076       0.053\n",
      "const               0.0089      0.045      0.200      0.842      -0.080       0.098\n",
      "==============================================================================\n",
      "Omnibus:                       67.962   Durbin-Watson:                   1.915\n",
      "Prob(Omnibus):                  0.000   Jarque-Bera (JB):             1717.373\n",
      "Skew:                           1.205   Prob(JB):                         0.00\n",
      "Kurtosis:                      21.222   Cond. No.                         23.7\n",
      "==============================================================================\n",
      "\n",
      "Notes:\n",
      "[1] Standard Errors assume that the covariance matrix of the errors is correctly specified.\n"
     ]
    }
   ],
   "source": [
    "model = sm.OLS(Y , X).fit()\n",
    "print(model.summary())"
   ]
  },
  {
   "cell_type": "code",
   "execution_count": 7,
   "id": "63d6960a-3343-4d50-971b-3be1389a3c5a",
   "metadata": {},
   "outputs": [],
   "source": [
    "df['y_pred'] = model.predict(X)"
   ]
  },
  {
   "cell_type": "code",
   "execution_count": null,
   "id": "6950e24f-1cf7-4159-9ebd-edf57e592271",
   "metadata": {},
   "outputs": [],
   "source": []
  },
  {
   "cell_type": "code",
   "execution_count": null,
   "id": "163acac1-93c4-46a5-a88d-3f60d15f01df",
   "metadata": {},
   "outputs": [],
   "source": []
  },
  {
   "cell_type": "code",
   "execution_count": 6,
   "id": "101140ea-16ba-4e5e-a12f-b3d875ace02a",
   "metadata": {},
   "outputs": [],
   "source": [
    "df.to_csv('DataWPred' , index = False)"
   ]
  },
  {
   "cell_type": "code",
   "execution_count": 7,
   "id": "462752da-1762-4f5f-894a-44707dcda84d",
   "metadata": {},
   "outputs": [
    {
     "data": {
      "text/plain": [
       "0      0.025857\n",
       "1      0.006181\n",
       "2      0.043616\n",
       "3     -0.216622\n",
       "4     -0.092909\n",
       "         ...   \n",
       "117   -0.046058\n",
       "118   -0.098562\n",
       "119    0.229313\n",
       "120   -0.079862\n",
       "121    0.053511\n",
       "Length: 122, dtype: float64"
      ]
     },
     "execution_count": 7,
     "metadata": {},
     "output_type": "execute_result"
    }
   ],
   "source": [
    "residuals = model.resid\n",
    "residuals"
   ]
  },
  {
   "cell_type": "code",
   "execution_count": 8,
   "id": "0c5bdc4f-002a-4e25-8e7f-40a739685e11",
   "metadata": {},
   "outputs": [
    {
     "data": {
      "text/plain": [
       "['model.pkl']"
      ]
     },
     "execution_count": 8,
     "metadata": {},
     "output_type": "execute_result"
    }
   ],
   "source": [
    "import joblib\n",
    "joblib.dump(model, 'model.pkl')"
   ]
  },
  {
   "cell_type": "code",
   "execution_count": null,
   "id": "b4713fd7-8034-4a01-bb67-fc1313672557",
   "metadata": {},
   "outputs": [],
   "source": []
  },
  {
   "cell_type": "code",
   "execution_count": null,
   "id": "350186c6-e23d-400f-afd5-5521cf418589",
   "metadata": {},
   "outputs": [],
   "source": []
  }
 ],
 "metadata": {
  "kernelspec": {
   "display_name": "Python 3 (ipykernel)",
   "language": "python",
   "name": "python3"
  },
  "language_info": {
   "codemirror_mode": {
    "name": "ipython",
    "version": 3
   },
   "file_extension": ".py",
   "mimetype": "text/x-python",
   "name": "python",
   "nbconvert_exporter": "python",
   "pygments_lexer": "ipython3",
   "version": "3.11.8"
  }
 },
 "nbformat": 4,
 "nbformat_minor": 5
}
